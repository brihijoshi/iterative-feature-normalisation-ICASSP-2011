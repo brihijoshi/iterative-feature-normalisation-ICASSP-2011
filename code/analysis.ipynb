{
 "cells": [
  {
   "cell_type": "code",
   "execution_count": 14,
   "metadata": {},
   "outputs": [],
   "source": [
    "import numpy as np\n",
    "import matplotlib.pyplot as plt\n",
    "import pandas as pd\n",
    "from sklearn.metrics import classification_report\n",
    "import matplotlib.pyplot as plt\n",
    "import os\n",
    "import pickle\n",
    "import warnings\n",
    "warnings.filterwarnings('ignore')"
   ]
  },
  {
   "cell_type": "code",
   "execution_count": 108,
   "metadata": {},
   "outputs": [],
   "source": [
    "READ_PATH = \"../data/models/\"\n",
    "EXPERIMENT_TYPE = 'ldc_0.5'"
   ]
  },
  {
   "cell_type": "code",
   "execution_count": 109,
   "metadata": {},
   "outputs": [],
   "source": [
    "with open(READ_PATH+EXPERIMENT_TYPE+'.pickle', 'rb') as handle:\n",
    "    read_file = pickle.load(handle)"
   ]
  },
  {
   "cell_type": "markdown",
   "metadata": {},
   "source": [
    "## Get average statistics"
   ]
  },
  {
   "cell_type": "code",
   "execution_count": 110,
   "metadata": {},
   "outputs": [],
   "source": [
    "clf_reports = read_file['clf_report']\n",
    "average_precision = np.zeros(len(clf_reports))\n",
    "average_recall = np.zeros(len(clf_reports))\n",
    "average_f1 = np.zeros(len(clf_reports))\n",
    "average_accuracy = np.zeros(len(clf_reports))\n",
    "\n",
    "for i in range(len(clf_reports)):\n",
    "    clf_report = clf_reports[i]\n",
    "    average_precision[i] = clf_report['weighted avg']['precision']\n",
    "    average_recall[i] = clf_report['weighted avg']['recall']\n",
    "    average_f1[i] = clf_report['weighted avg']['f1-score']\n",
    "    average_accuracy = clf_report['accuracy']"
   ]
  },
  {
   "cell_type": "code",
   "execution_count": 111,
   "metadata": {},
   "outputs": [
    {
     "name": "stdout",
     "output_type": "stream",
     "text": [
      "----------------------------------------------------------\n",
      "Model -  ldc_0.5\n",
      "Average Precision -  0.7727371480732905\n",
      "Average Recall -  0.6658333333333334\n",
      "Average F1 -  0.6257015981223094\n",
      "Average Accuracy -  0.75\n",
      "----------------------------------------------------------\n"
     ]
    }
   ],
   "source": [
    "print('----------------------------------------------------------')\n",
    "print('Model - ', EXPERIMENT_TYPE)\n",
    "print('Average Precision - ',np.mean(average_precision))\n",
    "print('Average Recall - ',np.mean(average_recall))\n",
    "print('Average F1 - ',np.mean(average_f1))\n",
    "print('Average Accuracy - ',np.mean(average_accuracy))\n",
    "print('----------------------------------------------------------')"
   ]
  },
  {
   "cell_type": "markdown",
   "metadata": {},
   "source": [
    "## File Change analysis"
   ]
  },
  {
   "cell_type": "markdown",
   "metadata": {},
   "source": [
    "### File change trend"
   ]
  },
  {
   "cell_type": "code",
   "execution_count": 112,
   "metadata": {},
   "outputs": [],
   "source": [
    "random_file_changes = np.random.choice(np.arange(len(read_file['file_change'])),size=10)"
   ]
  },
  {
   "cell_type": "code",
   "execution_count": 113,
   "metadata": {},
   "outputs": [],
   "source": [
    "random_files = np.array(read_file['file_change'])[random_file_changes]"
   ]
  },
  {
   "cell_type": "code",
   "execution_count": 114,
   "metadata": {},
   "outputs": [
    {
     "data": {
      "text/plain": [
       "Text(0.5, 1.0, '% Change in files vs Iterations for 10 Random iterations')"
      ]
     },
     "execution_count": 114,
     "metadata": {},
     "output_type": "execute_result"
    },
    {
     "data": {
      "image/png": "[encoded data removed]",
      "text/plain": [
       "<Figure size 432x288 with 1 Axes>"
      ]
     },
     "metadata": {
      "needs_background": "light"
     },
     "output_type": "display_data"
    }
   ],
   "source": [
    "for elem in random_files:\n",
    "    plt.plot(np.arange(len(elem)-1), elem[1:])\n",
    "plt.xlabel('Iterations')\n",
    "plt.ylabel('% Change in file')\n",
    "plt.title('% Change in files vs Iterations for 10 Random iterations')\n",
    "# plt.savefig('../data/plots/file_change_10_random_'+EXPERIMENT_TYPE+'.png')"
   ]
  },
  {
   "cell_type": "markdown",
   "metadata": {},
   "source": [
    "### Histogram of no. of iterations for convergence"
   ]
  },
  {
   "cell_type": "code",
   "execution_count": 93,
   "metadata": {},
   "outputs": [],
   "source": [
    "len_array = np.zeros(len(read_file['file_change']))\n",
    "for i in range(len(read_file['file_change'])):\n",
    "    len_array[i] = len(read_file['file_change'][i])"
   ]
  },
  {
   "cell_type": "code",
   "execution_count": 98,
   "metadata": {},
   "outputs": [],
   "source": [
    "len_array_uq = np.unique(len_array, return_counts=True)"
   ]
  },
  {
   "cell_type": "code",
   "execution_count": 107,
   "metadata": {},
   "outputs": [
    {
     "data": {
      "image/png": "[encoded data removed]",
      "text/plain": [
       "<Figure size 432x288 with 1 Axes>"
      ]
     },
     "metadata": {
      "needs_background": "light"
     },
     "output_type": "display_data"
    }
   ],
   "source": [
    "plt.bar(len_array_uq[0], len_array_uq[1]/400)\n",
    "plt.xlabel('Number of iterations till convergence')\n",
    "plt.ylabel('Fraction of occurences out of 400 runs')\n",
    "# plt.savefig('../data/plots/convergence_bar_'+EXPERIMENT_TYPE+'.png')"
   ]
  },
  {
   "cell_type": "code",
   "execution_count": 78,
   "metadata": {},
   "outputs": [],
   "source": [
    "max_len = 0\n",
    "for elem in random_files:\n",
    "    if len(elem) > max_len:\n",
    "        max_len = len(elem)"
   ]
  },
  {
   "cell_type": "code",
   "execution_count": 79,
   "metadata": {},
   "outputs": [],
   "source": [
    "for i in range(len(random_files)):\n",
    "    elem = random_files[i]\n",
    "    if len(elem) < max_len:\n",
    "        to_add = max_len - len(elem)\n",
    "        to_add_arr = np.full(fill_value=elem[-1], shape=to_add)\n",
    "        elem = np.concatenate((elem, to_add_arr))\n",
    "    random_files[i] = np.array(elem)"
   ]
  },
  {
   "cell_type": "code",
   "execution_count": 83,
   "metadata": {},
   "outputs": [
    {
     "data": {
      "text/plain": [
       "(50, 7)"
      ]
     },
     "execution_count": 83,
     "metadata": {},
     "output_type": "execute_result"
    }
   ],
   "source": [
    "np.array(list(random_files)).shape"
   ]
  },
  {
   "cell_type": "code",
   "execution_count": 58,
   "metadata": {},
   "outputs": [
    {
     "data": {
      "text/plain": [
       "[1000000,\n",
       " 0.1566265060240964,\n",
       " 0.11627906976744186,\n",
       " 0.07865168539325842,\n",
       " 0.10344827586206896,\n",
       " 0.06666666666666667,\n",
       " 0.17073170731707318,\n",
       " 0.17073170731707318,\n",
       " 0.2,\n",
       " 0.07865168539325842,\n",
       " 0.06666666666666667,\n",
       " 0.10344827586206896,\n",
       " 0.14285714285714285,\n",
       " 0.010526315789473684]"
      ]
     },
     "execution_count": 58,
     "metadata": {},
     "output_type": "execute_result"
    }
   ],
   "source": [
    "to_plot"
   ]
  },
  {
   "cell_type": "code",
   "execution_count": null,
   "metadata": {},
   "outputs": [],
   "source": []
  }
 ],
 "metadata": {
  "kernelspec": {
   "display_name": "ifn",
   "language": "python",
   "name": "ifn"
  },
  "language_info": {
   "codemirror_mode": {
    "name": "ipython",
    "version": 3
   },
   "file_extension": ".py",
   "mimetype": "text/x-python",
   "name": "python",
   "nbconvert_exporter": "python",
   "pygments_lexer": "ipython3",
   "version": "3.7.4"
  }
 },
 "nbformat": 4,
 "nbformat_minor": 4
}
