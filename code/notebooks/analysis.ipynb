{
 "cells": [
  {
   "cell_type": "code",
   "execution_count": 234,
   "metadata": {},
   "outputs": [],
   "source": [
    "import numpy as np\n",
    "import matplotlib.pyplot as plt\n",
    "import pandas as pd\n",
    "from sklearn.metrics import classification_report\n",
    "import matplotlib.pyplot as plt\n",
    "import os\n",
    "import pickle\n",
    "import warnings\n",
    "warnings.filterwarnings('ignore')"
   ]
  },
  {
   "cell_type": "code",
   "execution_count": 235,
   "metadata": {},
   "outputs": [],
   "source": [
    "READ_PATH = \"../data/models/\"\n",
    "EXPERIMENT_TYPE = 'norm_plot_original_ldc_0.5'"
   ]
  },
  {
   "cell_type": "code",
   "execution_count": 236,
   "metadata": {},
   "outputs": [],
   "source": [
    "with open(READ_PATH+EXPERIMENT_TYPE+'.pickle', 'rb') as handle:\n",
    "    read_file = pickle.load(handle)"
   ]
  },
  {
   "cell_type": "markdown",
   "metadata": {},
   "source": [
    "## Get average statistics"
   ]
  },
  {
   "cell_type": "code",
   "execution_count": 170,
   "metadata": {},
   "outputs": [],
   "source": [
    "clf_reports = read_file['clf_report']\n",
    "average_precision = np.zeros(len(clf_reports))\n",
    "average_recall = np.zeros(len(clf_reports))\n",
    "average_f1 = np.zeros(len(clf_reports))\n",
    "average_accuracy = np.zeros(len(clf_reports))\n",
    "\n",
    "for i in range(len(clf_reports)):\n",
    "    clf_report = clf_reports[i]\n",
    "    average_precision[i] = clf_report['weighted avg']['precision']\n",
    "    average_recall[i] = clf_report['weighted avg']['recall']\n",
    "    average_f1[i] = clf_report['weighted avg']['f1-score']\n",
    "    average_accuracy = clf_report['accuracy']"
   ]
  },
  {
   "cell_type": "code",
   "execution_count": 171,
   "metadata": {},
   "outputs": [
    {
     "name": "stdout",
     "output_type": "stream",
     "text": [
      "----------------------------------------------------------\n",
      "Model -  ldc_0.45\n",
      "Average Precision -  0.7639905172553847\n",
      "Average Recall -  0.6345098039215686\n",
      "Average F1 -  0.5779090830459279\n",
      "Average Accuracy -  0.7058823529411765\n",
      "----------------------------------------------------------\n"
     ]
    }
   ],
   "source": [
    "print('----------------------------------------------------------')\n",
    "print('Model - ', EXPERIMENT_TYPE)\n",
    "print('Average Precision - ',np.mean(average_precision))\n",
    "print('Average Recall - ',np.mean(average_recall))\n",
    "print('Average F1 - ',np.mean(average_f1))\n",
    "print('Average Accuracy - ',np.mean(average_accuracy))\n",
    "print('----------------------------------------------------------')"
   ]
  },
  {
   "cell_type": "code",
   "execution_count": null,
   "metadata": {},
   "outputs": [],
   "source": [
    "----------------------------------------------------------\n",
    "Model -  global_original_ldc_0.5\n",
    "Average Precision -  0.6808470248126284\n",
    "Average Recall -  0.60921875\n",
    "Average F1 -  0.5638739601449739\n",
    "Average Accuracy -  0.6041666666666666\n",
    "----------------------------------------------------------"
   ]
  },
  {
   "cell_type": "markdown",
   "metadata": {},
   "source": [
    "## File Change analysis"
   ]
  },
  {
   "cell_type": "markdown",
   "metadata": {},
   "source": [
    "### File change trend"
   ]
  },
  {
   "cell_type": "code",
   "execution_count": 112,
   "metadata": {},
   "outputs": [],
   "source": [
    "random_file_changes = np.random.choice(np.arange(len(read_file['file_change'])),size=10)"
   ]
  },
  {
   "cell_type": "code",
   "execution_count": 113,
   "metadata": {},
   "outputs": [],
   "source": [
    "random_files = np.array(read_file['file_change'])[random_file_changes]"
   ]
  },
  {
   "cell_type": "code",
   "execution_count": 114,
   "metadata": {},
   "outputs": [
    {
     "data": {
      "text/plain": [
       "Text(0.5, 1.0, '% Change in files vs Iterations for 10 Random iterations')"
      ]
     },
     "execution_count": 114,
     "metadata": {},
     "output_type": "execute_result"
    },
    {
     "data": {
      "image/png": "[encoded data removed]",
      "text/plain": [
       "<Figure size 432x288 with 1 Axes>"
      ]
     },
     "metadata": {
      "needs_background": "light"
     },
     "output_type": "display_data"
    }
   ],
   "source": [
    "for elem in random_files:\n",
    "    plt.plot(np.arange(len(elem)-1), elem[1:])\n",
    "plt.xlabel('Iterations')\n",
    "plt.ylabel('% Change in file')\n",
    "plt.title('% Change in files vs Iterations for 10 Random iterations')\n",
    "# plt.savefig('../data/plots/file_change_10_random_'+EXPERIMENT_TYPE+'.png')"
   ]
  },
  {
   "cell_type": "markdown",
   "metadata": {},
   "source": [
    "### Histogram of no. of iterations for convergence"
   ]
  },
  {
   "cell_type": "code",
   "execution_count": 93,
   "metadata": {},
   "outputs": [],
   "source": [
    "len_array = np.zeros(len(read_file['file_change']))\n",
    "for i in range(len(read_file['file_change'])):\n",
    "    len_array[i] = len(read_file['file_change'][i])"
   ]
  },
  {
   "cell_type": "code",
   "execution_count": 98,
   "metadata": {},
   "outputs": [],
   "source": [
    "len_array_uq = np.unique(len_array, return_counts=True)"
   ]
  },
  {
   "cell_type": "code",
   "execution_count": 107,
   "metadata": {},
   "outputs": [
    {
     "data": {
      "image/png": "[encoded data removed]",
      "text/plain": [
       "<Figure size 432x288 with 1 Axes>"
      ]
     },
     "metadata": {
      "needs_background": "light"
     },
     "output_type": "display_data"
    }
   ],
   "source": [
    "plt.bar(len_array_uq[0], len_array_uq[1]/400)\n",
    "plt.xlabel('Number of iterations till convergence')\n",
    "plt.ylabel('Fraction of occurences out of 400 runs')\n",
    "# plt.savefig('../data/plots/convergence_bar_'+EXPERIMENT_TYPE+'.png')"
   ]
  },
  {
   "cell_type": "markdown",
   "metadata": {},
   "source": [
    "# Speaker variations in the dataset"
   ]
  },
  {
   "cell_type": "code",
   "execution_count": 172,
   "metadata": {},
   "outputs": [],
   "source": [
    "DF_PATH = \"../data/dataframes/\"\n",
    "temp_df = pd.read_pickle(DF_PATH+'temp_df.pkl')"
   ]
  },
  {
   "cell_type": "code",
   "execution_count": 174,
   "metadata": {},
   "outputs": [],
   "source": [
    "gb = temp_df.groupby('speaker')"
   ]
  },
  {
   "cell_type": "code",
   "execution_count": 180,
   "metadata": {},
   "outputs": [],
   "source": [
    "selected_speeches = []\n",
    "for name, group in gb:\n",
    "    speech_gb = group.groupby('speech_type')\n",
    "    for sgb_name, sgb_group in speech_gb:\n",
    "        selected_speeches.append(sgb_group.sample(n=1))"
   ]
  },
  {
   "cell_type": "code",
   "execution_count": 181,
   "metadata": {},
   "outputs": [],
   "source": [
    "selected_speeches = pd.concat(selected_speeches).reset_index(drop=True)"
   ]
  },
  {
   "cell_type": "code",
   "execution_count": 203,
   "metadata": {
    "scrolled": true
   },
   "outputs": [],
   "source": [
    "selected_speeches_0 = selected_speeches[selected_speeches['speech_type']==1]\n",
    "test = selected_speeches_0.sample(n=4)"
   ]
  },
  {
   "cell_type": "code",
   "execution_count": 205,
   "metadata": {},
   "outputs": [
    {
     "data": {
      "image/png": "[encoded data removed]",
      "text/plain": [
       "<Figure size 432x288 with 1 Axes>"
      ]
     },
     "metadata": {
      "needs_background": "light"
     },
     "output_type": "display_data"
    }
   ],
   "source": [
    "for index, row in test.iterrows():\n",
    "    plt.plot(np.arange(len(row['F0_contour'])), row['F0_contour'], label = row['speaker'])\n",
    "plt.legend()\n",
    "plt.xlabel('Time')\n",
    "plt.ylabel('Frequency')\n",
    "plt.savefig('../data/plots/speaker_variability.png')"
   ]
  },
  {
   "cell_type": "markdown",
   "metadata": {},
   "source": [
    "# Iteration Analysis"
   ]
  },
  {
   "cell_type": "code",
   "execution_count": 237,
   "metadata": {},
   "outputs": [],
   "source": [
    "clf_reports = read_file['clf_report']"
   ]
  },
  {
   "cell_type": "code",
   "execution_count": 238,
   "metadata": {},
   "outputs": [],
   "source": [
    "accuracy_arrays =[]\n",
    "for elem in clf_reports:\n",
    "    l = []\n",
    "    for e in elem:\n",
    "        l.append(e['accuracy'])\n",
    "    accuracy_arrays.append(l)"
   ]
  },
  {
   "cell_type": "code",
   "execution_count": 239,
   "metadata": {},
   "outputs": [],
   "source": [
    "max_len = 0\n",
    "for elem in accuracy_arrays:\n",
    "    if len(elem) > max_len:\n",
    "        max_len = len(elem)"
   ]
  },
  {
   "cell_type": "code",
   "execution_count": 240,
   "metadata": {},
   "outputs": [],
   "source": [
    "final_array = []\n",
    "for elem in accuracy_arrays:\n",
    "    arr = elem\n",
    "    if len(elem) < max_len:\n",
    "        to_add = max_len - len(elem)\n",
    "        for i in range(to_add):\n",
    "            arr.append(elem[-1])\n",
    "    final_array.append(arr)"
   ]
  },
  {
   "cell_type": "code",
   "execution_count": 241,
   "metadata": {},
   "outputs": [],
   "source": [
    "trajectory = np.mean(np.array(final_array), axis=0)\n",
    "x_axis = np.arange(len(trajectory))"
   ]
  },
  {
   "cell_type": "code",
   "execution_count": 244,
   "metadata": {},
   "outputs": [
    {
     "data": {
      "image/png": "[encoded data removed]",
      "text/plain": [
       "<Figure size 432x288 with 1 Axes>"
      ]
     },
     "metadata": {
      "needs_background": "light"
     },
     "output_type": "display_data"
    }
   ],
   "source": [
    "plt.plot(x_axis, np.full(shape=len(x_axis), fill_value=0.704), label = 'optimal', marker='o')\n",
    "plt.plot(x_axis, np.full(shape=len(x_axis), fill_value=0.75), label = 'without', marker='o')\n",
    "plt.plot(x_axis, np.full(shape=len(x_axis), fill_value=0.604), label = 'global', marker='o')\n",
    "plt.plot(x_axis, np.full(shape=len(x_axis), fill_value=0.645), label = 'ablation', marker='o')\n",
    "plt.plot(x_axis, trajectory, label = 'IFN', )\n",
    "plt.legend()\n",
    "plt.xlabel('Iterations')\n",
    "plt.ylabel('Accuracy')\n",
    "plt.savefig('../data/plots/iteration_accuracy.png')"
   ]
  }
 ],
 "metadata": {
  "kernelspec": {
   "display_name": "ifn",
   "language": "python",
   "name": "ifn"
  },
  "language_info": {
   "codemirror_mode": {
    "name": "ipython",
    "version": 3
   },
   "file_extension": ".py",
   "mimetype": "text/x-python",
   "name": "python",
   "nbconvert_exporter": "python",
   "pygments_lexer": "ipython3",
   "version": "3.7.4"
  }
 },
 "nbformat": 4,
 "nbformat_minor": 4
}
