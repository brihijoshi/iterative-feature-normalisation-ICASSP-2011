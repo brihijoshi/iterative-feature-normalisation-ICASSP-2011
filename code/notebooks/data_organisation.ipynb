{
 "cells": [
  {
   "cell_type": "code",
   "execution_count": 31,
   "metadata": {},
   "outputs": [],
   "source": [
    "import os\n",
    "import shutil "
   ]
  },
  {
   "cell_type": "code",
   "execution_count": 32,
   "metadata": {},
   "outputs": [],
   "source": [
    "BASE_PATH = \"../data/Audio_Speech_Actors_01-24/\"\n",
    "all_files = os.listdir(BASE_PATH)"
   ]
  },
  {
   "cell_type": "code",
   "execution_count": 33,
   "metadata": {},
   "outputs": [],
   "source": [
    "PROCESSED_PATH = \"../data/processed/\""
   ]
  },
  {
   "cell_type": "code",
   "execution_count": 34,
   "metadata": {},
   "outputs": [],
   "source": [
    "if os.path.exists(PROCESSED_PATH) == False:\n",
    "    os.mkdir(PROCESSED_PATH)\n",
    "    print('Created directory ', PROCESSED_PATH)"
   ]
  },
  {
   "cell_type": "code",
   "execution_count": 37,
   "metadata": {},
   "outputs": [
    {
     "name": "stdout",
     "output_type": "stream",
     "text": [
      "60\n",
      "60\n",
      "60\n",
      "60\n",
      "60\n",
      "60\n",
      "60\n",
      "60\n",
      "60\n",
      "60\n",
      "60\n",
      "60\n",
      "60\n",
      "60\n",
      "60\n",
      "60\n",
      "60\n",
      "60\n",
      "60\n",
      "60\n",
      "60\n",
      "60\n",
      "60\n",
      "60\n"
     ]
    }
   ],
   "source": [
    "# Iterating through each speaker to create the reference audio list\n",
    "\n",
    "if os.path.exists(PROCESSED_PATH+'reference/') == False:\n",
    "    os.mkdir(PROCESSED_PATH+'reference/')\n",
    "# if os.path.exists(PROCESSED_PATH+'train/') == False:\n",
    "#     os.mkdir(PROCESSED_PATH+'train/')\n",
    "# if os.path.exists(PROCESSED_PATH+'test/') == False:\n",
    "#     os.mkdir(PROCESSED_PATH+'test/')\n",
    "\n",
    "if os.path.exists(PROCESSED_PATH+'train2/') == False:\n",
    "    os.mkdir(PROCESSED_PATH+'train2/')\n",
    "\n",
    "reference_audio_list = []\n",
    "for speaker in all_files:\n",
    "    speaker_files = os.listdir(BASE_PATH+speaker)\n",
    "    for speaker_file in speaker_files:\n",
    "        temp = speaker_file.split('.')\n",
    "        split_dest = \"\"\n",
    "        temp2 = temp[0].split('-')\n",
    "        speaker_no = int(temp2[-1])\n",
    "        split_name = temp[0][:-3]\n",
    "        if split_name == '03-01-01-01-01-01':\n",
    "            split_dest = 'reference/'\n",
    "            reference_audio_list.append(speaker_file)\n",
    "            shutil.copyfile(BASE_PATH+speaker+\"/\"+speaker_file, PROCESSED_PATH+split_dest+speaker_file)\n",
    "        else:\n",
    "            split_dest = 'train2/'\n",
    "            shutil.copyfile(BASE_PATH+speaker+\"/\"+speaker_file, PROCESSED_PATH+split_dest+speaker_file)            "
   ]
  }
 ],
 "metadata": {
  "kernelspec": {
   "display_name": "ifn",
   "language": "python",
   "name": "ifn"
  },
  "language_info": {
   "codemirror_mode": {
    "name": "ipython",
    "version": 3
   },
   "file_extension": ".py",
   "mimetype": "text/x-python",
   "name": "python",
   "nbconvert_exporter": "python",
   "pygments_lexer": "ipython3",
   "version": "3.7.4"
  }
 },
 "nbformat": 4,
 "nbformat_minor": 2
}
