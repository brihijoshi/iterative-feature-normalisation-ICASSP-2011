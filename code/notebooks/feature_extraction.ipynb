{
 "cells": [
  {
   "cell_type": "code",
   "execution_count": 36,
   "metadata": {},
   "outputs": [],
   "source": [
    "import parselmouth\n",
    "import numpy as np\n",
    "import matplotlib.pyplot as plt\n",
    "import seaborn as sns\n",
    "import itertools\n",
    "import operator"
   ]
  },
  {
   "cell_type": "code",
   "execution_count": 2,
   "metadata": {},
   "outputs": [],
   "source": [
    "snd = parselmouth.Sound(\"../data/Audio_Speech_Actors_01-24/Actor_01/03-01-02-02-01-02-01.wav\")"
   ]
  },
  {
   "cell_type": "code",
   "execution_count": 16,
   "metadata": {},
   "outputs": [],
   "source": [
    "def get_F0_contour(sound):\n",
    "    pitch = sound.to_pitch()\n",
    "    return pitch.selected_array['frequency']"
   ]
  },
  {
   "cell_type": "markdown",
   "metadata": {},
   "source": [
    "The _upper (SQ75)_ and _lower quartiles (SQ25)_, median of the F0 con-\n",
    "tour (Smedian) and its derivative (Sdmedian), interquartile range of\n",
    "\n",
    "F0 derivative (Sdiqr), mean of the voiced segment range (SVmean-\n",
    "Range), and maximum value of the voiced segment curvatures (SV-\n",
    "maxCurv)."
   ]
  },
  {
   "cell_type": "code",
   "execution_count": 22,
   "metadata": {},
   "outputs": [],
   "source": [
    "def get_SQ25(contour):\n",
    "    return np.quantile(contour, 0.25)"
   ]
  },
  {
   "cell_type": "code",
   "execution_count": 20,
   "metadata": {},
   "outputs": [],
   "source": [
    "def get_SQ75(contour):\n",
    "    return np.quantile(contour, 0.75)"
   ]
  },
  {
   "cell_type": "code",
   "execution_count": 21,
   "metadata": {},
   "outputs": [],
   "source": [
    "def get_F0_median(contour):\n",
    "    return np.median(contour)"
   ]
  },
  {
   "cell_type": "code",
   "execution_count": null,
   "metadata": {},
   "outputs": [],
   "source": [
    "def get_sdmedian(contour):\n",
    "    return np.median(np.gradient(contour))"
   ]
  },
  {
   "cell_type": "code",
   "execution_count": 25,
   "metadata": {},
   "outputs": [],
   "source": [
    "def get_IDR(contour):\n",
    "    return get_SQ75(contour) - get_SQ25(contour)"
   ]
  },
  {
   "cell_type": "code",
   "execution_count": 45,
   "metadata": {},
   "outputs": [],
   "source": [
    "def get_voiced_segments(contour):\n",
    "    voiced_segments = []\n",
    "    segment_values = []\n",
    "    for elem in contour:\n",
    "        if elem == 0:\n",
    "            if len(segment_values)>0:\n",
    "                voiced_segments.append(segment_values)\n",
    "                segment_values = []\n",
    "        else:\n",
    "            segment_values.append(elem)\n",
    "    return voiced_segments"
   ]
  },
  {
   "cell_type": "code",
   "execution_count": 50,
   "metadata": {},
   "outputs": [],
   "source": [
    "def get_voiced_segment_range(voiced_segment):\n",
    "    \"\"\"\n",
    "    Mean of the range of voiced features\n",
    "    \"\"\"\n",
    "    range_list = []\n",
    "    for elem in voiced_segment:\n",
    "        range_list.append(np.max(elem)-np.min(elem))\n",
    "    return np.mean(range_list)"
   ]
  },
  {
   "cell_type": "code",
   "execution_count": 52,
   "metadata": {},
   "outputs": [],
   "source": [
    "def get_max_voiced_curvature(contour):\n",
    "    non_zero_elems = contour[contour!=0]\n",
    "    return np.max(non_zero_elems)"
   ]
  }
 ],
 "metadata": {
  "kernelspec": {
   "display_name": "ifn",
   "language": "python",
   "name": "ifn"
  },
  "language_info": {
   "codemirror_mode": {
    "name": "ipython",
    "version": 3
   },
   "file_extension": ".py",
   "mimetype": "text/x-python",
   "name": "python",
   "nbconvert_exporter": "python",
   "pygments_lexer": "ipython3",
   "version": "3.7.4"
  }
 },
 "nbformat": 4,
 "nbformat_minor": 2
}
